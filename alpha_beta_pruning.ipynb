{
 "cells": [
  {
   "cell_type": "code",
   "execution_count": 1,
   "id": "f8485d32",
   "metadata": {},
   "outputs": [
    {
     "name": "stdout",
     "output_type": "stream",
     "text": [
      "Max node | Start α=-inf, β=inf\n",
      "  Min node | Start α=-inf, β=inf\n",
      "    Leaf 4 | α=-inf, β=inf\n",
      "    After child 4 → value=4, α=-inf, β=4\n",
      "    Leaf 8 | α=-inf, β=4\n",
      "    After child 8 → value=4, α=-inf, β=4\n",
      "    Leaf 5 | α=-inf, β=4\n",
      "    After child 5 → value=4, α=-inf, β=4\n",
      "  Return 4 from Min node\n",
      "  After child [4, 8, 5] → value=4, α=4, β=inf\n",
      "  Min node | Start α=4, β=inf\n",
      "    Leaf 9 | α=4, β=inf\n",
      "    After child 9 → value=9, α=4, β=9\n",
      "    Leaf 3 | α=4, β=9\n",
      "    After child 3 → value=3, α=4, β=3\n",
      "    ❌ Prune (β=3 ≤ α=4)\n",
      "  Return 3 from Min node\n",
      "  After child [9, 3, 7] → value=4, α=4, β=inf\n",
      "  Min node | Start α=4, β=inf\n",
      "    Leaf 2 | α=4, β=inf\n",
      "    After child 2 → value=2, α=4, β=2\n",
      "    ❌ Prune (β=2 ≤ α=4)\n",
      "  Return 2 from Min node\n",
      "  After child [2, 4, 6] → value=4, α=4, β=inf\n",
      "Return 4 from Max node\n",
      "\n",
      "✅ Best value found by Alpha-Beta: 4\n"
     ]
    }
   ],
   "source": [
    "game_tree = [\n",
    "    [4, 8, 5],  # Branch 1\n",
    "    [9, 3, 7],  # Branch 2\n",
    "    [2, 4, 6]   # Branch 3\n",
    "]\n",
    "\n",
    "def alpha_beta(tree, depth, alpha, beta, is_max, level=0):\n",
    "    indent = \"  \" * level  # to visualize recursion depth\n",
    "\n",
    "    # Base case: Leaf node\n",
    "    if not isinstance(tree, list):\n",
    "        print(f\"{indent}Leaf {tree} | α={alpha}, β={beta}\")\n",
    "        return tree\n",
    "\n",
    "    print(f\"{indent}{'Max' if is_max else 'Min'} node | Start α={alpha}, β={beta}\")\n",
    "\n",
    "    if is_max:\n",
    "        value = -1000\n",
    "        for child in tree:\n",
    "            child_val = alpha_beta(child, depth-1, alpha, beta, False, level+1)\n",
    "            value = max(value, child_val)\n",
    "            alpha = max(alpha, child_val)\n",
    "            print(f\"{indent}  After child {child} → value={value}, α={alpha}, β={beta}\")\n",
    "            if beta <= alpha:\n",
    "                print(f\"{indent}  ❌ Prune (α={alpha} ≥ β={beta})\")\n",
    "                break\n",
    "        print(f\"{indent}Return {value} from Max node\")\n",
    "        return value\n",
    "    else:\n",
    "        value = 1000\n",
    "        for child in tree:\n",
    "            child_val = alpha_beta(child, depth-1, alpha, beta, True, level+1)\n",
    "            value = min(value, child_val)\n",
    "            beta = min(beta, child_val)\n",
    "            print(f\"{indent}  After child {child} → value={value}, α={alpha}, β={beta}\")\n",
    "            if beta <= alpha:\n",
    "                print(f\"{indent}  ❌ Prune (β={beta} ≤ α={alpha})\")\n",
    "                break\n",
    "        print(f\"{indent}Return {value} from Min node\")\n",
    "        return value\n",
    "\n",
    "\n",
    "best_value = alpha_beta(game_tree, depth=3, alpha=float(\"-inf\"), beta=float(\"inf\"), is_max=True)\n",
    "print(\"\\n✅ Best value found by Alpha-Beta:\", best_value)\n"
   ]
  }
 ],
 "metadata": {
  "kernelspec": {
   "display_name": "Python 3",
   "language": "python",
   "name": "python3"
  },
  "language_info": {
   "codemirror_mode": {
    "name": "ipython",
    "version": 3
   },
   "file_extension": ".py",
   "mimetype": "text/x-python",
   "name": "python",
   "nbconvert_exporter": "python",
   "pygments_lexer": "ipython3",
   "version": "3.13.0"
  }
 },
 "nbformat": 4,
 "nbformat_minor": 5
}
