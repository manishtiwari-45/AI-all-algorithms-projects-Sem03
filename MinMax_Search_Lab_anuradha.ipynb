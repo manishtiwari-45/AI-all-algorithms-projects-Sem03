{
  "cells": [
    {
      "cell_type": "markdown",
      "metadata": {
        "colab_type": "text",
        "id": "view-in-github"
      },
      "source": [
        "<a href=\"https://colab.research.google.com/github/aruntakhur/SitareUniversity/blob/main/MinMax_Search_Lab.ipynb\" target=\"_parent\"><img src=\"https://colab.research.google.com/assets/colab-badge.svg\" alt=\"Open In Colab\"/></a>"
      ]
    },
    {
      "cell_type": "markdown",
      "metadata": {
        "id": "Btd5ixFj6Bv5"
      },
      "source": [
        "# Lab Assignment: Tic Tac Toe with Minimax Search\n",
        "\n",
        "## Objective\n",
        "In this lab, you will:\n",
        "- Implement Tic Tac Toe using Python.\n",
        "- Write state functions (`S0`, `Player`, `Actions`, `Result`, `Terminal`, `Utility`).\n",
        "- Implement the **Minimax algorithm**.\n",
        "- Count the number of states evaluated.\n",
        "- Compare theoretical vs actual states explored."
      ]
    },
    {
      "cell_type": "code",
      "execution_count": 5,
      "metadata": {
        "id": "kz7sExzS56jF"
      },
      "outputs": [
        {
          "name": "stdout",
          "output_type": "stream",
          "text": [
            " | | \n",
            "-+-+-\n",
            " | | \n",
            "-+-+-\n",
            " | | \n"
          ]
        }
      ],
      "source": [
        "# -----------------------------\n",
        "# Part A: State Representation\n",
        "# -----------------------------\n",
        "\n",
        "# Initial state (S0): empty 3x3 board\n",
        "\n",
        "\n",
        "\n",
        "def print_board(state):\n",
        "    \"\"\"Print the board in a 3x3 format\"\"\"\n",
        "    print(state[0]+\"|\"+state[1]+\"|\"+state[2])\n",
        "    print(\"-+-+-\")\n",
        "    print(state[3]+\"|\"+state[4]+\"|\"+state[5])\n",
        "    print(\"-+-+-\")\n",
        "    print(state[6]+\"|\"+state[7]+\"|\"+state[8])\n",
        "\n",
        "S0 = [\" \" for _ in range(9)]\n",
        "print_board(S0)"
      ]
    },
    {
      "cell_type": "code",
      "execution_count": 7,
      "metadata": {
        "id": "fwonz2Ud6Mx0"
      },
      "outputs": [],
      "source": [
        "# -----------------------------\n",
        "# TODO Part A: Implement State Functions\n",
        "# -----------------------------\n",
        "\n",
        "def Player(state):\n",
        "    \"\"\"Return which player has the next turn\"\"\"\n",
        "    # TODO: Implement using counts of X and O\n",
        "    \n",
        "    x_count = 0\n",
        "    O_count = 0\n",
        "    for i in state:\n",
        "        if i == \"X\":\n",
        "            x_count+=1\n",
        "        if i == \"O\":\n",
        "            O_count+=1\n",
        "    if x_count == O_count:\n",
        "        return \"X\"\n",
        "    else:\n",
        "        return \"O\"\n",
        "\n",
        "def Actions(state):\n",
        "    \"\"\"Return list of legal moves\"\"\"\n",
        "    # TODO: Return all indexes that are still empty\n",
        "    index = []\n",
        "    for i in range(len(state)):\n",
        "        if state[i] == \" \":\n",
        "            index.append(i)\n",
        "    return index\n",
        "\n",
        "\n",
        "def Result(state, action):\n",
        "    \"\"\"Return new state after action is taken\"\"\"\n",
        "    # TODO: Copy the state and apply the move\n",
        "\n",
        "    move = Player(state)\n",
        "    state[action] = move\n",
        "    return state \n",
        "\n",
        "def Terminal(state):\n",
        "    \"\"\"Return True if the state is terminal (win or draw)\"\"\"\n",
        "    # TODO: Check for win or if no moves left\n",
        "    \n",
        "    wining_chances = [[0,1,2],[3,4,5],[6,7,8],[0,3,6],[1,4,7],[2,5,8],[1,4,8],[2,4,6]]\n",
        "    is_terminal = False\n",
        "    for chnaces in wining_chances:\n",
        "        count_o = 0\n",
        "        count_x = 0\n",
        "        for i in chnaces:\n",
        "            if state[i] == \"X\":\n",
        "                count_x+=1\n",
        "            if state[i] == \"O\":\n",
        "                count_o+=1\n",
        "        if count_x == 3 or count_o == 3:\n",
        "            is_terminal = True\n",
        "            return is_terminal\n",
        "    count = 0\n",
        "    for i in state:\n",
        "        if i != \" \":\n",
        "            count+=1\n",
        "    if count == 9:\n",
        "        return True\n",
        "\n",
        "        \n",
        "\n",
        "\n",
        "def Utility(state):\n",
        "    \"\"\"Return +1 if X wins, -1 if O wins, else 0\"\"\"\n",
        "    # TODO: Implement win/draw logic\n",
        "    wining_chances = [[0,1,2],[3,4,5],[6,7,8],[0,3,6],[1,4,7],[2,5,8],[1,4,8],[2,4,6]]\n",
        "    for chnaces in wining_chances:\n",
        "        count_o = 0\n",
        "        count_x = 0\n",
        "        for i in chnaces:\n",
        "            if state[i] == \"X\":\n",
        "                count_x+=1\n",
        "            if state[i] == \"O\":\n",
        "                count_o+=1\n",
        "        if count_x == 3:\n",
        "            return 1\n",
        "        if count_o == 3:\n",
        "            return -1\n",
        "    count = 0\n",
        "    for i in state:\n",
        "        if i != \" \":\n",
        "            count+=1\n",
        "    if count == 9:\n",
        "        return 0\n",
        "    \n",
        "\n",
        "\n",
        "S0 = [\" \" for _ in range(9)]\n",
        "Utility(S0)"
      ]
    },
    {
      "cell_type": "code",
      "execution_count": 3,
      "metadata": {
        "id": "rnBBSH8o6Rhh"
      },
      "outputs": [],
      "source": [
        "# -----------------------------\n",
        "# Part B: Minimax Implementation\n",
        "# -----------------------------\n",
        "\n",
        "\n",
        "def MAX_VALUE(state):\n",
        "\n",
        "    if Terminal(state):\n",
        "        return Utility(state)\n",
        "\n",
        "    v = float(\"-inf\")\n",
        "    for action in Actions(state):\n",
        "        v = max(v, MIN_VALUE(Result(state, action)))\n",
        "    return v\n",
        "\n",
        "\n",
        "def MIN_VALUE(state):\n",
        "\n",
        "    if Terminal(state):\n",
        "        return Utility(state)\n",
        "\n",
        "    v = float(\"inf\")\n",
        "    for action in Actions(state):\n",
        "        v = min(v, MAX_VALUE(Result(state, action)))\n",
        "    return v\n",
        "\n",
        "\n",
        "def minimax_decision(state):\n",
        "    \"\"\"Return best move for current player\"\"\"\n",
        "    global call_count\n",
        "    call_count = 0\n",
        "\n",
        "    player = Player(state)\n",
        "    best_move = None\n",
        "\n",
        "    if player == \"X\":\n",
        "        best_val = float(\"-inf\")\n",
        "        for action in Actions(state):\n",
        "            val = MIN_VALUE(Result(state, action))\n",
        "            if val > best_val:\n",
        "                best_val = val\n",
        "                best_move = action\n",
        "    else:\n",
        "        best_val = float(\"inf\")\n",
        "        for action in Actions(state):\n",
        "            val = MAX_VALUE(Result(state, action))\n",
        "            if val < best_val:\n",
        "                best_val = val\n",
        "                best_move = action\n",
        "\n",
        "    return best_move\n"
      ]
    },
    {
      "cell_type": "code",
      "execution_count": 4,
      "metadata": {
        "id": "MzX_7U456h-E"
      },
      "outputs": [],
      "source": [
        "# -----------------------------\n",
        "# Part C: Human vs AI Game\n",
        "# -----------------------------\n",
        "\n",
        "# Add Code to detect invalid move also\n",
        "\n",
        "def play():\n",
        "    state = S0.copy()\n",
        "\n",
        "    while not Terminal(state):\n",
        "        print_board(state)\n",
        "        if Player(state) == \"X\":  # Human move\n",
        "            move = int(input(\"Enter your move (1-9): \")) - 1\n",
        "\n",
        "        else:  # AI move\n",
        "            print(\"AI is thinking...\")\n",
        "            move = minimax_decision(state)\n",
        "\n",
        "        state = Result(state, move)\n",
        "\n",
        "    print_board(state)\n",
        "    if Utility(state) == 1:\n",
        "        print(\"X wins!\")\n",
        "    elif Utility(state) == -1:\n",
        "        print(\"O wins!\")\n",
        "    else:\n",
        "        print(\"It's a draw!\")\n"
      ]
    },
    {
      "cell_type": "markdown",
      "metadata": {
        "id": "l0aDwYO57PnU"
      },
      "source": [
        "# -----------------------------\n",
        "# Part D: Experiment and Analysis\n",
        "# -----------------------------\n",
        "\n",
        "1. Run the game where X plays first in the center (position 5).\n",
        "2. Note down the number of states AI explored.\n",
        "3. Compare with:\n",
        "   - 8! = 40,320 (leaf-only sequences)\n",
        "   - 8+8⋅7+8⋅7⋅6+⋯+8! = 109,600 (all partial states)\n",
        "4. Explain why actual count (~55,504) is smaller than 109,600.\n"
      ]
    },
    {
      "cell_type": "markdown",
      "metadata": {
        "id": "8FK7ZBl87bWL"
      },
      "source": [
        "# -----------------------------\n",
        "# Part E: Written Questions\n",
        "# -----------------------------\n",
        "\n",
        "Answer briefly:\n",
        "\n",
        "1. Why does Minimax need to evaluate so many states in Tic Tac Toe?\n",
        "2. Difference between full tree size and actual explored states?\n",
        "3. How do early wins reduce the number of states?\n",
        "4. What challenges would arise if applying Minimax to Chess?\n"
      ]
    }
  ],
  "metadata": {
    "colab": {
      "authorship_tag": "ABX9TyNi+yMo94DnUzMTNfgyp2QW",
      "include_colab_link": true,
      "provenance": []
    },
    "kernelspec": {
      "display_name": "Python 3",
      "name": "python3"
    },
    "language_info": {
      "codemirror_mode": {
        "name": "ipython",
        "version": 3
      },
      "file_extension": ".py",
      "mimetype": "text/x-python",
      "name": "python",
      "nbconvert_exporter": "python",
      "pygments_lexer": "ipython3",
      "version": "3.13.0"
    }
  },
  "nbformat": 4,
  "nbformat_minor": 0
}
